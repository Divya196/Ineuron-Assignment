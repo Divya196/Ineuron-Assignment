{
  "nbformat": 4,
  "nbformat_minor": 0,
  "metadata": {
    "colab": {
      "provenance": [],
      "authorship_tag": "ABX9TyNSRLc/Gp31JqehneBTh/qE",
      "include_colab_link": true
    },
    "kernelspec": {
      "name": "python3",
      "display_name": "Python 3"
    },
    "language_info": {
      "name": "python"
    }
  },
  "cells": [
    {
      "cell_type": "markdown",
      "metadata": {
        "id": "view-in-github",
        "colab_type": "text"
      },
      "source": [
        "<a href=\"https://colab.research.google.com/github/Divya196/Ineuron-Assignment/blob/master/pythonassignment3.ipynb\" target=\"_parent\"><img src=\"https://colab.research.google.com/assets/colab-badge.svg\" alt=\"Open In Colab\"/></a>"
      ]
    },
    {
      "cell_type": "code",
      "execution_count": 1,
      "metadata": {
        "colab": {
          "base_uri": "https://localhost:8080/",
          "height": 35
        },
        "id": "H4uCQfjKr-Wj",
        "outputId": "2aeef698-96af-4485-cd6a-7bfa902f3a35"
      },
      "outputs": [
        {
          "output_type": "execute_result",
          "data": {
            "text/plain": [
              "\"Write a Python Program to implement your own myreduce() function which works exactly\\nlike Python's built-in function reduce()\\n\""
            ],
            "application/vnd.google.colaboratory.intrinsic+json": {
              "type": "string"
            }
          },
          "metadata": {},
          "execution_count": 1
        }
      ],
      "source": [
        "\"\"\"Write a Python Program to implement your own myreduce() function which works exactly\n",
        "like Python's built-in function reduce()\n",
        "\"\"\""
      ]
    },
    {
      "cell_type": "code",
      "source": [
        "def multiply(a,b):\n",
        "    return a*b\n",
        "def myreduce(multiply,iterable_object):\n",
        "  data = iterable_object\n",
        "  a= data[0]\n",
        "  for i in range(1,len(data)):\n",
        "    b = data[i]\n",
        "    a = multiply(a,b)\n",
        "  return a\n"
      ],
      "metadata": {
        "id": "QqAjnz1kx7nr"
      },
      "execution_count": 55,
      "outputs": []
    },
    {
      "cell_type": "code",
      "source": [
        "print(myreduce(multiply,(1,2,3,4,5)))"
      ],
      "metadata": {
        "colab": {
          "base_uri": "https://localhost:8080/"
        },
        "id": "eQgii1oB927O",
        "outputId": "5e868381-32c4-4ebc-8e1f-de7a762acbf0"
      },
      "execution_count": 57,
      "outputs": [
        {
          "output_type": "stream",
          "name": "stdout",
          "text": [
            "120\n"
          ]
        }
      ]
    },
    {
      "cell_type": "code",
      "source": [
        "\"\"\"1.2 Write a Python program to implement your own myfilter() function which works exactly\n",
        "like Python's built-in function filter()\"\"\""
      ],
      "metadata": {
        "colab": {
          "base_uri": "https://localhost:8080/",
          "height": 35
        },
        "id": "PhDPV6Iv_cYJ",
        "outputId": "4f328bba-5adc-43a8-8292-5fbd887b96d4"
      },
      "execution_count": 58,
      "outputs": [
        {
          "output_type": "execute_result",
          "data": {
            "text/plain": [
              "\"1.2 Write a Python program to implement your own myfilter() function which works exactly\\nlike Python's built-in function filter()\""
            ],
            "application/vnd.google.colaboratory.intrinsic+json": {
              "type": "string"
            }
          },
          "metadata": {},
          "execution_count": 58
        }
      ]
    },
    {
      "cell_type": "code",
      "source": [
        "#Filtering the ages greater than or equal to 18\n",
        "def func(i):\n",
        "  if i>=18:\n",
        "    return True\n",
        "  else:\n",
        "    return False\n",
        "\n",
        "def myfilter(func,iter_obj):\n",
        "  data = iter_obj\n",
        "  result=[]\n",
        "  for i in range(0,len(data)):\n",
        "        if (func(data[i]) == True):\n",
        "          result.append(data[i])\n",
        "  return result\n"
      ],
      "metadata": {
        "id": "Wnh3inFTCB0L"
      },
      "execution_count": 94,
      "outputs": []
    },
    {
      "cell_type": "code",
      "source": [
        "print(myfilter(func,[45,8,78,60,17,18,54,0]))"
      ],
      "metadata": {
        "colab": {
          "base_uri": "https://localhost:8080/"
        },
        "id": "sw4NumqCHdXo",
        "outputId": "5f5b94aa-2fea-4a9e-abae-7de857e0fdc5"
      },
      "execution_count": 95,
      "outputs": [
        {
          "output_type": "stream",
          "name": "stdout",
          "text": [
            "[45, 78, 60, 18, 54]\n"
          ]
        }
      ]
    },
    {
      "cell_type": "code",
      "source": [],
      "metadata": {
        "id": "C5FtfAdrHcwF"
      },
      "execution_count": null,
      "outputs": []
    }
  ]
}