{
  "nbformat": 4,
  "nbformat_minor": 0,
  "metadata": {
    "colab": {
      "provenance": [],
      "authorship_tag": "ABX9TyPekT3s+Wrh/xGc2FLWPrC6",
      "include_colab_link": true
    },
    "kernelspec": {
      "name": "python3",
      "display_name": "Python 3"
    },
    "language_info": {
      "name": "python"
    }
  },
  "cells": [
    {
      "cell_type": "markdown",
      "metadata": {
        "id": "view-in-github",
        "colab_type": "text"
      },
      "source": [
        "<a href=\"https://colab.research.google.com/github/Divya196/Ineuron-Assignment/blob/master/pythonassignment2.ipynb\" target=\"_parent\"><img src=\"https://colab.research.google.com/assets/colab-badge.svg\" alt=\"Open In Colab\"/></a>"
      ]
    },
    {
      "cell_type": "code",
      "execution_count": 1,
      "metadata": {
        "id": "eebcbYt4igkk"
      },
      "outputs": [],
      "source": [
        "#1. Create the below pattern using nested for loop in Python."
      ]
    },
    {
      "cell_type": "code",
      "source": [
        "n= 9\n",
        "for i in range(0,n):\n",
        "  if i<5:\n",
        "    for j in range(0,i+1):\n",
        "      print(\"*\",end=\" \")\n",
        "    print(\"\\n\")\n",
        "  else:\n",
        "    for j in range(0,n-i):\n",
        "      print(\"*\",end=\" \")\n",
        "    print(\"\\n\")"
      ],
      "metadata": {
        "colab": {
          "base_uri": "https://localhost:8080/"
        },
        "id": "_hE3iGmgpbV4",
        "outputId": "8120d85e-daf3-4306-c5c0-44be74f42ed9"
      },
      "execution_count": 36,
      "outputs": [
        {
          "output_type": "stream",
          "name": "stdout",
          "text": [
            "* \n",
            "\n",
            "* * \n",
            "\n",
            "* * * \n",
            "\n",
            "* * * * \n",
            "\n",
            "* * * * * \n",
            "\n",
            "* * * * \n",
            "\n",
            "* * * \n",
            "\n",
            "* * \n",
            "\n",
            "* \n",
            "\n"
          ]
        }
      ]
    },
    {
      "cell_type": "code",
      "source": [
        "#Write a Python program to reverse a word after accepting the input from the user."
      ],
      "metadata": {
        "id": "UcJtEqq2qj-1"
      },
      "execution_count": 37,
      "outputs": []
    },
    {
      "cell_type": "code",
      "source": [
        "word = input(\"enter the word to reverse \")\n",
        "word[::-1]"
      ],
      "metadata": {
        "colab": {
          "base_uri": "https://localhost:8080/",
          "height": 52
        },
        "id": "BPVFWm5DrDYe",
        "outputId": "f06c5e63-b2f2-46e6-a795-2ba8fc9c6b8a"
      },
      "execution_count": 42,
      "outputs": [
        {
          "name": "stdout",
          "output_type": "stream",
          "text": [
            "enter the word to reverse krishnaik\n"
          ]
        },
        {
          "output_type": "execute_result",
          "data": {
            "text/plain": [
              "'kianhsirk'"
            ],
            "application/vnd.google.colaboratory.intrinsic+json": {
              "type": "string"
            }
          },
          "metadata": {},
          "execution_count": 42
        }
      ]
    },
    {
      "cell_type": "code",
      "source": [],
      "metadata": {
        "id": "UAaiBeLorSLn"
      },
      "execution_count": null,
      "outputs": []
    }
  ]
}